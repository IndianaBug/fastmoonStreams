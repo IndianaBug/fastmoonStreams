{
 "cells": [
  {
   "cell_type": "code",
   "execution_count": 12,
   "id": "fefa53da-d2fa-4221-8e10-0514ef1a7c3e",
   "metadata": {},
   "outputs": [
    {
     "name": "stdout",
     "output_type": "stream",
     "text": [
      "[0.05, 0.06, 0.07, 0.09, 0.1, 0.12, 0.15, 0.18, 0.21, 0.26, 0.31, 0.37, 0.45, 0.53, 0.64, 0.77, 0.92, 1.11, 1.33, 1.6, 1.92, 2.3, 2.76, 3.31, 3.97, 4.77, 5.72, 6.87, 8.24, 9.89]\n"
     ]
    }
   ],
   "source": [
    "initial_value = 0.05\n",
    "common_ratio = 1.2\n",
    "num_elements = 30\n",
    "books_range = [round(initial_value * (common_ratio ** i), 2)  for i in range(num_elements)]\n",
    "print(books_range)"
   ]
  },
  {
   "cell_type": "markdown",
   "id": "767fa6c0-ddf3-4ce1-9be3-457b63877435",
   "metadata": {},
   "source": [
    "# Features\n",
    "\n",
    "## Gegeral\n",
    "\n",
    "* price change\n",
    "* price variability\n",
    "* Price trend\n",
    "* Technical indicators\n",
    "* Volume\n",
    "* Volume profile over te past day\n",
    "\n",
    "## Limit Order Books\n",
    "\n",
    "* Depth, N levels: Total quantity of orders at each level\n",
    "* Imbalance: sumASKS-sumBIDS at each price level\n",
    "* Delta of imaalnce over n-periods\n",
    "* Best bid-ask spread, average spread over n-periods, std, percentage change in spread\n",
    "* Imbalance change to mid-price movement (or trend) over N-periods\n",
    "* Percentiles of imbalance to mid-price movement\n",
    "* Volume profile at each price level over the past day. This is going doing HELL of a shit to deal with! Maybe ration\n",
    "* Cancelation imbalance at certain price level\n",
    "* Hidden orders - when the volume and market orders surge, but the price didn't move that much\n",
    "  \n",
    "\n",
    "## Order Flow\n",
    "\n",
    "* Order flow Assymetry over 1 min: (mbuyvol - msel_vol) / (mbuyvol + msel_vol)   - Normalized\n",
    "* Order Flow Mean Reversion (OFMR): average OFM over n - periods\n",
    "* Order flow autocorrelation using Auto correlation Coeficients over n-lags, unconditional sample autocorrelation\n",
    "* Order flow hurst exponent\n",
    "* Order flow entropy\n",
    "* Order flow momentum: Price change * order flow imbalance\n",
    "* Order flow imbalance persistence measures the duration of the order imbalance\n",
    "* Order flow imbalance\n",
    "* Order flow skewness over n steps\n",
    "* Order Flow Kurtosis\n",
    "* Order flow noise (volatility)\n",
    "* Order Flow Imbalance Width (OIW) -- orderflow imbalance devided by average trading volume over at a certain price level\n",
    "* Order Flow Imbalance Persistence (OIP) --- OIP is calculated by measuring the correlation between the order imbalance at a given price level and the order imbalance at subsequent price levels.\n",
    "* Order Flow Liquidity (OFL) --- OFL is calculated by comparing the volume of buy orders to the volume of sell orders in a given time period.\n",
    "* Order Imbalance Distribution (OID): Measures the distribution of order imbalance across different price levels.\n",
    "\n",
    "## ML order flow. Manually generate signals with ML learning algos on labeled data or clustering\n",
    "  \n",
    "* Order Flow Clustering (OFC): Groups related orders based on their order size, price, and time of arrival, say over one hour\n",
    "* Order flow filtering. Filter relevant and irrelevant flows with XGBoost. Employ thresholding, relative scalling, dynamic thresholding, clustering.\n",
    "* Order flow anomali detection. Model training: Train a machine learning model to identify anomalies in the order flow data. The model can be trained on labeled data, where each example is classified as either normal or anomalous.\n",
    "* Order Flow Regime Switching (OFRS): Identifies changes in the trading regime based on order flow patterns. Using ML algorithms on labeled data\n",
    "* Order Flow Signal Generation (OFSG): Generates trading signals based on order flow indicators.\n",
    "\n",
    "## Open interest\n",
    "* Changes in open interest. Delta open interest over n steps\n",
    "* Open Interest Distribution at certain price levels\n",
    "* Open Interest Normalized Volume : devided by trading volume\n",
    "* Open interest regime switching with markow chains\n",
    "* Open Interest varianve over 60 second and N period in general. OR turnover ration. Total turnover / OI\n",
    "* Turnover ration at different price levels\n",
    "* Open interest change to price movement\n",
    "* \n"
   ]
  },
  {
   "cell_type": "code",
   "execution_count": null,
   "id": "b6ffc986-97e8-4d52-81e3-d145b40ca6fe",
   "metadata": {},
   "outputs": [],
   "source": []
  },
  {
   "cell_type": "code",
   "execution_count": null,
   "id": "b79eb0cb-a096-49f3-a0c8-ed5337c2cbe4",
   "metadata": {},
   "outputs": [],
   "source": [
    "# Orderflow entropy\n",
    "\n",
    "import numpy as np\n",
    "from scipy.stats import entropy\n",
    "\n",
    "# Generate synthetic order flow data (replace this with your actual order flow data)\n",
    "np.random.seed(42)\n",
    "order_flow_data = np.random.choice(['buy', 'sell'], size=1000)\n",
    "\n",
    "# Calculate the probability distribution\n",
    "prob_distribution = np.bincount(order_flow_data) / len(order_flow_data)\n",
    "\n",
    "# Calculate Order Flow Entropy\n",
    "ofe = entropy(prob_distribution, base=2)\n",
    "\n",
    "print(f\"Order Flow Entropy: {ofe:.4f}\")"
   ]
  }
 ],
 "metadata": {
  "kernelspec": {
   "display_name": "Python 3 (ipykernel)",
   "language": "python",
   "name": "python3"
  },
  "language_info": {
   "codemirror_mode": {
    "name": "ipython",
    "version": 3
   },
   "file_extension": ".py",
   "mimetype": "text/x-python",
   "name": "python",
   "nbconvert_exporter": "python",
   "pygments_lexer": "ipython3",
   "version": "3.10.9"
  }
 },
 "nbformat": 4,
 "nbformat_minor": 5
}
