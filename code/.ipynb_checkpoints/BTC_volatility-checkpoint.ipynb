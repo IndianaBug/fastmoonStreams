{
 "cells": [
  {
   "cell_type": "code",
   "execution_count": 16,
   "id": "e7d9ab06-9dee-4bc4-8970-bc6e3782699c",
   "metadata": {
    "scrolled": true
   },
   "outputs": [
    {
     "name": "stderr",
     "output_type": "stream",
     "text": [
      "2024-01-14 15:33:12 [scrapy.utils.log] INFO: Scrapy 2.11.0 started (bot: scrapybot)\n",
      "2024-01-14 15:33:12 [scrapy.utils.log] INFO: Versions: lxml 5.1.0.0, libxml2 2.12.3, cssselect 1.2.0, parsel 1.8.1, w3lib 2.1.2, Twisted 22.10.0, Python 3.10.12 (main, Nov 20 2023, 15:14:05) [GCC 11.4.0], pyOpenSSL 23.3.0 (OpenSSL 3.1.4 24 Oct 2023), cryptography 41.0.7, Platform Linux-5.15.133.1-microsoft-standard-WSL2-x86_64-with-glibc2.35\n"
     ]
    }
   ],
   "source": [
    "from scrapy.crawler import CrawlerProcess\n",
    "from scrapy.settings import Settings\n",
    "from scrapy.crawler import CrawlerRunner\n",
    "from twisted.internet import reactor\n",
    "from scrapy.utils.log import configure_logging\n",
    "import scrapy\n",
    "\n",
    "scrapy_settings = Settings({\n",
    "    'REQUEST_FINGERPRINTER_IMPLEMENTATION': 'scrapy.dupefilters.RFPDupeFilter',\n",
    "})\n",
    "configure_logging()\n",
    "runner = CrawlerProcess(scrapy_settings)"
   ]
  },
  {
   "cell_type": "code",
   "execution_count": 21,
   "id": "f04e347d-8cf9-4d48-8efe-2974f17889d7",
   "metadata": {
    "scrolled": true
   },
   "outputs": [],
   "source": [
    "class TradingViewSpider(scrapy.Spider):\n",
    "    name = 'tradingview'\n",
    "    start_urls = ['https://www.tradingview.com/symbols/BTCUSD.P/ideas/?sort=recent']\n",
    "\n",
    "    def parse(self, response):\n",
    "        # Extracting titles and authors of recent ideas\n",
    "        idea_elements = response.css('div.tv-card-container__ideas tv-card-container__ideas--with-padding js-balance-content')\n",
    "        print(idea_elements)\n",
    "\n",
    "        # for idea in idea_elements:\n",
    "        #     title = idea.css('div.tv-widget-idea__title-row').get()\n",
    "        #     print(title)\n",
    "        #     # yield {\n",
    "        #     #     'title': title.strip() if title else None,\n",
    "        #     #     'author': author.strip() if author else None,\n",
    "        #     # }\n"
   ]
  },
  {
   "cell_type": "code",
   "execution_count": 22,
   "id": "3edd2b34-ef2a-40ab-a590-9c1ddbeefa07",
   "metadata": {},
   "outputs": [
    {
     "name": "stderr",
     "output_type": "stream",
     "text": [
      "2024-01-14 15:35:22 [scrapy.addons] INFO: Enabled addons:\n",
      "[]\n",
      "2024-01-14 15:35:22 [scrapy.extensions.telnet] INFO: Telnet Password: 104a3b947f56b758\n",
      "2024-01-14 15:35:22 [scrapy.middleware] INFO: Enabled extensions:\n",
      "['scrapy.extensions.corestats.CoreStats',\n",
      " 'scrapy.extensions.telnet.TelnetConsole',\n",
      " 'scrapy.extensions.memusage.MemoryUsage',\n",
      " 'scrapy.extensions.logstats.LogStats']\n",
      "2024-01-14 15:35:22 [scrapy.crawler] INFO: Overridden settings:\n",
      "{}\n",
      "2024-01-14 15:35:22 [scrapy.middleware] INFO: Enabled downloader middlewares:\n",
      "['scrapy.downloadermiddlewares.httpauth.HttpAuthMiddleware',\n",
      " 'scrapy.downloadermiddlewares.downloadtimeout.DownloadTimeoutMiddleware',\n",
      " 'scrapy.downloadermiddlewares.defaultheaders.DefaultHeadersMiddleware',\n",
      " 'scrapy.downloadermiddlewares.useragent.UserAgentMiddleware',\n",
      " 'scrapy.downloadermiddlewares.retry.RetryMiddleware',\n",
      " 'scrapy.downloadermiddlewares.redirect.MetaRefreshMiddleware',\n",
      " 'scrapy.downloadermiddlewares.httpcompression.HttpCompressionMiddleware',\n",
      " 'scrapy.downloadermiddlewares.redirect.RedirectMiddleware',\n",
      " 'scrapy.downloadermiddlewares.cookies.CookiesMiddleware',\n",
      " 'scrapy.downloadermiddlewares.httpproxy.HttpProxyMiddleware',\n",
      " 'scrapy.downloadermiddlewares.stats.DownloaderStats']\n",
      "2024-01-14 15:35:22 [scrapy.middleware] INFO: Enabled spider middlewares:\n",
      "['scrapy.spidermiddlewares.httperror.HttpErrorMiddleware',\n",
      " 'scrapy.spidermiddlewares.offsite.OffsiteMiddleware',\n",
      " 'scrapy.spidermiddlewares.referer.RefererMiddleware',\n",
      " 'scrapy.spidermiddlewares.urllength.UrlLengthMiddleware',\n",
      " 'scrapy.spidermiddlewares.depth.DepthMiddleware']\n",
      "2024-01-14 15:35:22 [scrapy.middleware] INFO: Enabled item pipelines:\n",
      "[]\n",
      "2024-01-14 15:35:22 [scrapy.core.engine] INFO: Spider opened\n",
      "2024-01-14 15:35:22 [scrapy.extensions.logstats] INFO: Crawled 0 pages (at 0 pages/min), scraped 0 items (at 0 items/min)\n",
      "2024-01-14 15:35:22 [scrapy.extensions.telnet] INFO: Telnet console listening on 127.0.0.1:6026\n"
     ]
    },
    {
     "data": {
      "text/plain": [
       "<Deferred at 0x7f097c8b52a0>"
      ]
     },
     "execution_count": 22,
     "metadata": {},
     "output_type": "execute_result"
    }
   ],
   "source": [
    "process = TradingViewSpider()\n",
    "runner = CrawlerRunner()\n",
    "# Run the spider\n",
    "d = runner.crawl(TradingViewSpider)\n",
    "d.addBoth(lambda _: reactor.stop())"
   ]
  },
  {
   "cell_type": "code",
   "execution_count": 7,
   "id": "321de44a",
   "metadata": {},
   "outputs": [],
   "source": [
    "class1 = 'tv-card-container__ideas tv-card-container__ideas--with-padding js-balance-content'\n",
    "\n",
    "class2 = 'tv-widget-idea__title-row'"
   ]
  },
  {
   "cell_type": "code",
   "execution_count": null,
   "id": "2f2f5c43-ff2e-4500-8b5a-2931893f515e",
   "metadata": {},
   "outputs": [],
   "source": []
  },
  {
   "cell_type": "code",
   "execution_count": null,
   "id": "5c674187-ed4b-4134-89a9-13cf3c485166",
   "metadata": {},
   "outputs": [],
   "source": []
  }
 ],
 "metadata": {
  "kernelspec": {
   "display_name": "Python 3 (ipykernel)",
   "language": "python",
   "name": "python3"
  },
  "language_info": {
   "codemirror_mode": {
    "name": "ipython",
    "version": 3
   },
   "file_extension": ".py",
   "mimetype": "text/x-python",
   "name": "python",
   "nbconvert_exporter": "python",
   "pygments_lexer": "ipython3",
   "version": "3.10.12"
  }
 },
 "nbformat": 4,
 "nbformat_minor": 5
}
