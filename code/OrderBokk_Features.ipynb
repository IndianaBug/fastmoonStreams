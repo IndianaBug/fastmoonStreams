{
 "cells": [
  {
   "cell_type": "code",
   "execution_count": 12,
   "id": "fefa53da-d2fa-4221-8e10-0514ef1a7c3e",
   "metadata": {},
   "outputs": [
    {
     "name": "stdout",
     "output_type": "stream",
     "text": [
      "[0.05, 0.06, 0.07, 0.09, 0.1, 0.12, 0.15, 0.18, 0.21, 0.26, 0.31, 0.37, 0.45, 0.53, 0.64, 0.77, 0.92, 1.11, 1.33, 1.6, 1.92, 2.3, 2.76, 3.31, 3.97, 4.77, 5.72, 6.87, 8.24, 9.89]\n"
     ]
    }
   ],
   "source": [
    "initial_value = 0.05\n",
    "common_ratio = 1.2\n",
    "num_elements = 30\n",
    "books_range = [round(initial_value * (common_ratio ** i), 2)  for i in range(num_elements)]\n",
    "print(books_range)"
   ]
  },
  {
   "cell_type": "markdown",
   "id": "767fa6c0-ddf3-4ce1-9be3-457b63877435",
   "metadata": {},
   "source": [
    "# Features\n",
    "\n",
    "#### Depth, N levels\n",
    "\n"
   ]
  },
  {
   "cell_type": "code",
   "execution_count": null,
   "id": "b79eb0cb-a096-49f3-a0c8-ed5337c2cbe4",
   "metadata": {},
   "outputs": [],
   "source": []
  }
 ],
 "metadata": {
  "kernelspec": {
   "display_name": "Python 3 (ipykernel)",
   "language": "python",
   "name": "python3"
  },
  "language_info": {
   "codemirror_mode": {
    "name": "ipython",
    "version": 3
   },
   "file_extension": ".py",
   "mimetype": "text/x-python",
   "name": "python",
   "nbconvert_exporter": "python",
   "pygments_lexer": "ipython3",
   "version": "3.10.12"
  }
 },
 "nbformat": 4,
 "nbformat_minor": 5
}
