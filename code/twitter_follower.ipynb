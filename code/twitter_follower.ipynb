{
 "cells": [
  {
   "cell_type": "code",
   "execution_count": 16,
   "id": "e7d9ab06-9dee-4bc4-8970-bc6e3782699c",
   "metadata": {},
   "outputs": [],
   "source": [
    "import requests\n",
    "from bs4 import BeautifulSoup"
   ]
  },
  {
   "cell_type": "code",
   "execution_count": 10,
   "id": "f04e347d-8cf9-4d48-8efe-2974f17889d7",
   "metadata": {},
   "outputs": [
    {
     "name": "stderr",
     "output_type": "stream",
     "text": [
      "Testing instances: 100%|████████████████████████████████████████████████████████████████| 30/30 [00:51<00:00,  1.72s/it]\n"
     ]
    }
   ],
   "source": [
    "\n",
    "\n"
   ]
  },
  {
   "cell_type": "code",
   "execution_count": null,
   "id": "3d28a40d-dd4d-4467-b383-037408a61a4a",
   "metadata": {},
   "outputs": [],
   "source": [
    "def scrape_quotes():\n",
    "    # URL of the website to scrape\n",
    "    url = 'https://coinlaunch.space/influencers/twitter/'\n",
    "    \n",
    "    # Send a GET request to the URL\n",
    "    response = requests.get(url)\n",
    "    \n",
    "    # Check if the request was successful (status code 200)\n",
    "    if response.status_code == 200:\n",
    "        # Parse the HTML content of the page\n",
    "        soup = BeautifulSoup(response.text, 'html.parser')\n",
    "        \n",
    "        # Extract information (e.g., quotes and authors)\n",
    "        quotes = soup.find_all('span', class_='text')\n",
    "        authors = soup.find_all('small', class_='author')\n",
    "        \n",
    "        # Print the scraped quotes and authors\n",
    "        for i in range(len(quotes)):\n",
    "            print(f\"Quote: {quotes[i].text}\")\n",
    "            print(f\"Author: {authors[i].text}\\n\")\n",
    "    else:\n",
    "        print(f\"Failed to retrieve the page. Status code: {response.status_code}\")\n",
    "\n",
    "# Run the scraper\n",
    "scrape_quotes()"
   ]
  }
 ],
 "metadata": {
  "kernelspec": {
   "display_name": "Python 3 (ipykernel)",
   "language": "python",
   "name": "python3"
  },
  "language_info": {
   "codemirror_mode": {
    "name": "ipython",
    "version": 3
   },
   "file_extension": ".py",
   "mimetype": "text/x-python",
   "name": "python",
   "nbconvert_exporter": "python",
   "pygments_lexer": "ipython3",
   "version": "3.10.12"
  }
 },
 "nbformat": 4,
 "nbformat_minor": 5
}
