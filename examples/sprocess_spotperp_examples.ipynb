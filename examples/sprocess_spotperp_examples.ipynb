{
 "cells": [
  {
   "cell_type": "code",
   "execution_count": 3,
   "metadata": {},
   "outputs": [
    {
     "ename": "ModuleNotFoundError",
     "evalue": "No module named 'TradeEngine'",
     "output_type": "error",
     "traceback": [
      "\u001b[0;31m---------------------------------------------------------------------------\u001b[0m",
      "\u001b[0;31mModuleNotFoundError\u001b[0m                       Traceback (most recent call last)",
      "Cell \u001b[0;32mIn[3], line 7\u001b[0m\n\u001b[1;32m      5\u001b[0m \u001b[38;5;28;01mimport\u001b[39;00m \u001b[38;5;21;01mtime\u001b[39;00m\n\u001b[1;32m      6\u001b[0m sys\u001b[38;5;241m.\u001b[39mpath\u001b[38;5;241m.\u001b[39mappend(\u001b[38;5;124m'\u001b[39m\u001b[38;5;124mTradeEngine\u001b[39m\u001b[38;5;124m'\u001b[39m)\n\u001b[0;32m----> 7\u001b[0m \u001b[38;5;28;01mfrom\u001b[39;00m \u001b[38;5;21;01mTradeEngine\u001b[39;00m\u001b[38;5;21;01m.\u001b[39;00m\u001b[38;5;21;01mspot_futures\u001b[39;00m\u001b[38;5;21;01m.\u001b[39;00m\u001b[38;5;21;01msProcess\u001b[39;00m \u001b[38;5;28;01mimport\u001b[39;00m sProcessBooks, sProcessTrades, sProcessOI, sProcessLiquidations\n\u001b[1;32m      8\u001b[0m \u001b[38;5;66;03m# from TradeEngine.spot_futures.mAggregator import mAggregator\u001b[39;00m\n",
      "\u001b[0;31mModuleNotFoundError\u001b[0m: No module named 'TradeEngine'"
     ]
    }
   ],
   "source": [
    "import sys\n",
    "import os\n",
    "import json\n",
    "import numpy as np\n",
    "import time\n",
    "sys.path.append('TradeEngine')\n",
    "from TradeEngine.spot_futures.sProcess import sProcessBooks, sProcessTrades, sProcessOI, sProcessLiquidations\n",
    "# from TradeEngine.spot_futures.mAggregator import mAggregator"
   ]
  },
  {
   "cell_type": "markdown",
   "metadata": {},
   "source": [
    "# Content\n",
    "\n",
    "- sProcessBooks: An example of processing books streams into a minute dataframe\n",
    "- sProcessTrades: An example of processing trades streams into a minute dataframe\n",
    "- sProcessOI: An example of processing books open interest into a minute dataframe\n",
    "- sProcessLiquidations: An example of processing liquidations streams into a minute dataframe\n",
    "\n",
    "# Forking\n",
    "\n",
    "- Adjust dictionary accessing accoring to its keys\n",
    "\n",
    "        current_second = int(trade[t_name] % 60)  \n",
    "        self.current_second = current_second \n",
    "        current_price = # The logic of accessing the price\n",
    "        amount = float(trade[l_name])"
   ]
  },
  {
   "cell_type": "markdown",
   "metadata": {},
   "source": [
    "# Books\n"
   ]
  },
  {
   "cell_type": "code",
   "execution_count": null,
   "metadata": {},
   "outputs": [],
   "source": [
    "initial_books = json.load(open('examples/data/binance_perp/books.json', 'r'))\n",
    "trades = json.load(open('examples/data/binance_per/trades.json', 'r'))\n",
    "books = json.load(open('examples/data/binance_perp/bupdates.json', 'r'))\n",
    "\n",
    "btc_price = (float(initial_books['bids'][0][0]) + float(initial_books['asks'][0][0])) / 2\n",
    "\n",
    "a  = sProcessBooks('binance', 'btc_usdt', btc_price, 20)\n",
    "start =time.time()\n",
    "a.update_books(initial_books, 'bids', 'asks', 'timestamp')\n",
    "a.dfs_input_books()\n",
    "for e in books:\n",
    "    a.update_books(e, 'b', 'a', 'timestamp')\n",
    "    a.dfs_input_books()\n",
    "print(f\"elapsed_time for {len(books)+1} iterations: \", time.time() - start)\n",
    "a.snapshot.isna().sum().sum()\n",
    "print(f\"elapsed_time for {len(books)+1} iterations: \", time.time() - start)"
   ]
  },
  {
   "cell_type": "markdown",
   "metadata": {},
   "source": [
    "# Trades"
   ]
  },
  {
   "cell_type": "code",
   "execution_count": null,
   "metadata": {},
   "outputs": [],
   "source": [
    "trades = json.load(open('examples/data/binance_perp/trades.json', 'r'))\n",
    "\n",
    "a  = sProcessTrades('binance', 'btc_usdt', btc_price, 20)\n",
    "start = time.time()\n",
    "for e in trades:\n",
    "    a.dfs_input_trades(btc_price, e, 'timestamp', 'p', 'q')\n",
    "print(\"elapsed_time : \", time.time() - start)"
   ]
  },
  {
   "cell_type": "markdown",
   "metadata": {},
   "source": [
    "# Open Interest"
   ]
  },
  {
   "cell_type": "code",
   "execution_count": null,
   "metadata": {},
   "outputs": [],
   "source": [
    "trades = json.load(open('examples/data/binance_perp/trades.json', 'r'))\n",
    "a  = sProcessOI('binance', 'btc_usdt', btc_price, 20)\n",
    "start = time.time()\n",
    "for e in trades:\n",
    "    a.dfs_input_OI(btc_price, e, 'timestamp', 'p', 'q')\n",
    "print(\"elapsed_time : \", time.time() - start)"
   ]
  },
  {
   "cell_type": "markdown",
   "metadata": {},
   "source": [
    "# Liquidations"
   ]
  },
  {
   "cell_type": "code",
   "execution_count": null,
   "metadata": {},
   "outputs": [],
   "source": [
    "trades = json.load(open('examples/data/binance_perp/trades.json', 'r'))\n",
    "a  = sProcessLiquidations('binance', 'btc_usdt', btc_price, 20)\n",
    "start = time.time()\n",
    "for e in trades:\n",
    "    a.dfs_input_Liquidations(btc_price, e, 'timestamp', 'p', 'q')\n",
    "\n",
    "print(\"elapsed : \", time.time() - start)"
   ]
  },
  {
   "cell_type": "markdown",
   "metadata": {},
   "source": [
    "NOTES"
   ]
  },
  {
   "cell_type": "code",
   "execution_count": 1,
   "metadata": {},
   "outputs": [
    {
     "ename": "NameError",
     "evalue": "name 'json' is not defined",
     "output_type": "error",
     "traceback": [
      "\u001b[0;31m---------------------------------------------------------------------------\u001b[0m",
      "\u001b[0;31mNameError\u001b[0m                                 Traceback (most recent call last)",
      "Cell \u001b[0;32mIn[1], line 3\u001b[0m\n\u001b[1;32m      1\u001b[0m \u001b[38;5;28;01mimport\u001b[39;00m \u001b[38;5;21;01mcopy\u001b[39;00m\n\u001b[0;32m----> 3\u001b[0m initial_books \u001b[38;5;241m=\u001b[39m \u001b[43mjson\u001b[49m\u001b[38;5;241m.\u001b[39mload(\u001b[38;5;28mopen\u001b[39m(\u001b[38;5;124m'\u001b[39m\u001b[38;5;124m/content/SatoshiVault/examples/data/binance_perp/books.json\u001b[39m\u001b[38;5;124m'\u001b[39m, \u001b[38;5;124m'\u001b[39m\u001b[38;5;124mr\u001b[39m\u001b[38;5;124m'\u001b[39m))\n\u001b[1;32m      4\u001b[0m books \u001b[38;5;241m=\u001b[39m json\u001b[38;5;241m.\u001b[39mload(\u001b[38;5;28mopen\u001b[39m(\u001b[38;5;124m'\u001b[39m\u001b[38;5;124m/content/SatoshiVault/examples/data/binance_perp/bupdates.json\u001b[39m\u001b[38;5;124m'\u001b[39m, \u001b[38;5;124m'\u001b[39m\u001b[38;5;124mr\u001b[39m\u001b[38;5;124m'\u001b[39m))\n\u001b[1;32m      6\u001b[0m btc_price \u001b[38;5;241m=\u001b[39m (\u001b[38;5;28mfloat\u001b[39m(initial_books[\u001b[38;5;124m'\u001b[39m\u001b[38;5;124mbids\u001b[39m\u001b[38;5;124m'\u001b[39m][\u001b[38;5;241m0\u001b[39m][\u001b[38;5;241m0\u001b[39m]) \u001b[38;5;241m+\u001b[39m \u001b[38;5;28mfloat\u001b[39m(initial_books[\u001b[38;5;124m'\u001b[39m\u001b[38;5;124masks\u001b[39m\u001b[38;5;124m'\u001b[39m][\u001b[38;5;241m0\u001b[39m][\u001b[38;5;241m0\u001b[39m])) \u001b[38;5;241m/\u001b[39m \u001b[38;5;241m2\u001b[39m\n",
      "\u001b[0;31mNameError\u001b[0m: name 'json' is not defined"
     ]
    }
   ],
   "source": [
    "import copy\n",
    "\n",
    "initial_books = json.load(open('/content/SatoshiVault/examples/data/binance_perp/books.json', 'r'))\n",
    "books = json.load(open('/content/SatoshiVault/examples/data/binance_perp/bupdates.json', 'r'))\n",
    "\n",
    "btc_price = (float(initial_books['bids'][0][0]) + float(initial_books['asks'][0][0])) / 2\n",
    "\n",
    "a  = sProcessBooks('binance', 'btc_usdt', btc_price, 20)\n",
    "start =time.time()\n",
    "a.update_books(initial_books, 'bids', 'asks', 'timestamp')\n",
    "a.dfs_input_books()\n",
    "for e in books:\n",
    "    a.update_books(e, 'b', 'a', 'timestamp')\n",
    "    a.dfs_input_books()\n",
    "print(f\"elapsed_time for {len(books)+1} iterations: \", time.time() - start)\n",
    "\n",
    "\n",
    "binance = copy.copy(a)\n",
    "okex = copy.copy(a)\n",
    "bybit = copy.copy(a)"
   ]
  },
  {
   "cell_type": "code",
   "execution_count": 2,
   "metadata": {},
   "outputs": [
    {
     "name": "stdout",
     "output_type": "stream",
     "text": [
      "   ID  Value_df1  Value_df2  Value\n",
      "0   1       10.0        NaN   70.0\n",
      "1   2       20.0       40.0   80.0\n",
      "2   3       30.0       50.0   90.0\n",
      "3   4        NaN       60.0    NaN\n"
     ]
    }
   ],
   "source": [
    "import pandas as pd\n",
    "\n",
    "# Example DataFrames\n",
    "data1 = {'ID': [1, 2, 3], 'Value': [10, 20, 30]}\n",
    "data2 = {'ID': [2, 3, 4], 'Value': [40, 50, 60]}\n",
    "data3 = {'ID': [1, 2, 3], 'Value': [70, 80, 90]}\n",
    "\n",
    "df1 = pd.DataFrame(data1)\n",
    "df2 = pd.DataFrame(data2)\n",
    "df3 = pd.DataFrame(data3)\n",
    "\n",
    "# Merge DataFrames with custom suffixes\n",
    "merged_df = pd.merge(df1, df2, on='ID', how='outer', suffixes=('_df1', '_df2'))\n",
    "merged_df = pd.merge(merged_df, df3, on='ID', how='outer', suffixes=('_df1_df2', '_df3'))\n",
    "\n",
    "# Print the result\n",
    "print(merged_df)"
   ]
  },
  {
   "cell_type": "code",
   "execution_count": 4,
   "metadata": {},
   "outputs": [],
   "source": [
    "def sort_columns(df):\n",
    "    first_str_column = next(iter(df.columns))\n",
    "    float_columns = [col for col in df.columns if col != first_str_column]\n",
    "    sorted_columns = [first_str_column] + sorted(float_columns, key=float)\n",
    "    sorted_df = df[sorted_columns]\n",
    "    str_col = list(map(str, sorted_columns))\n",
    "    sorted_df.columns = str_col\n",
    "    return sorted_df"
   ]
  },
  {
   "cell_type": "code",
   "execution_count": 5,
   "metadata": {},
   "outputs": [
    {
     "ename": "NameError",
     "evalue": "name 'sProcessBooks' is not defined",
     "output_type": "error",
     "traceback": [
      "\u001b[0;31m---------------------------------------------------------------------------\u001b[0m",
      "\u001b[0;31mNameError\u001b[0m                                 Traceback (most recent call last)",
      "Cell \u001b[0;32mIn[5], line 59\u001b[0m\n\u001b[1;32m     50\u001b[0m         \u001b[38;5;28mself\u001b[39m\u001b[38;5;241m.\u001b[39msnapshot \u001b[38;5;241m=\u001b[39m \u001b[38;5;28msum\u001b[39m\u001b[38;5;241m.\u001b[39mcopy()\n\u001b[1;32m     56\u001b[0m level_range \u001b[38;5;241m=\u001b[39m \u001b[38;5;241m20\u001b[39m\n\u001b[1;32m     58\u001b[0m processes_ \u001b[38;5;241m=\u001b[39m [\n\u001b[0;32m---> 59\u001b[0m     \u001b[43msProcessBooks\u001b[49m(\u001b[38;5;124m'\u001b[39m\u001b[38;5;124mbinance\u001b[39m\u001b[38;5;124m'\u001b[39m, \u001b[38;5;124m'\u001b[39m\u001b[38;5;124mbtc_usdt\u001b[39m\u001b[38;5;124m'\u001b[39m, btc_price, level_range), \n\u001b[1;32m     60\u001b[0m     sProcessBooks(\u001b[38;5;124m'\u001b[39m\u001b[38;5;124mokx\u001b[39m\u001b[38;5;124m'\u001b[39m, \u001b[38;5;124m'\u001b[39m\u001b[38;5;124mbtc_usdt\u001b[39m\u001b[38;5;124m'\u001b[39m, btc_price, level_range), \n\u001b[1;32m     61\u001b[0m     sProcessBooks(\u001b[38;5;124m'\u001b[39m\u001b[38;5;124mcoinbase\u001b[39m\u001b[38;5;124m'\u001b[39m, \u001b[38;5;124m'\u001b[39m\u001b[38;5;124mbtc_usd\u001b[39m\u001b[38;5;124m'\u001b[39m, btc_price, level_range),\n\u001b[1;32m     62\u001b[0m     ]\n\u001b[1;32m     64\u001b[0m b \u001b[38;5;241m=\u001b[39m sAggregatorUniversal(\u001b[38;5;124m'\u001b[39m\u001b[38;5;124magg_books\u001b[39m\u001b[38;5;124m'\u001b[39m, processes_)\n\u001b[1;32m     67\u001b[0m \u001b[38;5;28;01mfor\u001b[39;00m process \u001b[38;5;129;01min\u001b[39;00m b\u001b[38;5;241m.\u001b[39mprocesses:\n",
      "\u001b[0;31mNameError\u001b[0m: name 'sProcessBooks' is not defined"
     ]
    }
   ],
   "source": [
    "import pandas as pd\n",
    "import numpy as np\n",
    "\n",
    "def get_common_suffixes(n):\n",
    "    \"\"\"\n",
    "        The maximum amount of datasets to aggregate is the len(alphabet). \n",
    "        Modify this function to get more aggregation possibilities\n",
    "    \"\"\"\n",
    "    alphabet = 'xyzabcdefghijklmnopqrstuvw'\n",
    "    suffixes = [f'_{alphabet[i]}' for i in range(n)]\n",
    "    return suffixes\n",
    "\n",
    "class sAggregatorUniversal():\n",
    "\n",
    "    def __init__(self, identification, processes):\n",
    "        self.identification = identification\n",
    "        self.processes = processes\n",
    "        self.snapshot = None\n",
    "        self.suffixes = get_common_suffixes(len(processes))\n",
    "\n",
    "    def merge_snapshots(self):\n",
    "        \"\"\"\n",
    "            Any snapshot merger, books, OI, Liquidations, Trades\n",
    "        \"\"\"\n",
    "        list_napshots = [\n",
    "            sort_columns(df.snapshot) for df in self.processes\n",
    "        ]\n",
    "\n",
    "\n",
    "        for index, df in enumerate(list_napshots):\n",
    "            if index == 0:\n",
    "                merged_df = pd.merge(list_napshots[0], list_napshots[1], how='outer', left_index=True, right_index=True, suffixes=(self.suffixes[index], self.suffixes[index+1]))\n",
    "            if index == len(list_napshots)-1:\n",
    "                break\n",
    "            if index != 0 and index != len(list_napshots)-1:\n",
    "                merged_df = pd.merge(merged_df, list_napshots[index+1], how='outer', left_index=True, right_index=True, suffixes=(self.suffixes[index], self.suffixes[index+1]))\n",
    "      \n",
    "        common_columns_dic = {column.split(\"_\")[0] : [] for column in merged_df.columns.tolist() }\n",
    "        for column in merged_df.columns.tolist():\n",
    "            common_columns_dic[column.split(\"_\")[0]].append(column)\n",
    "        \n",
    "        sum = pd.DataFrame()\n",
    "        for common_columns in common_columns_dic.keys():\n",
    "            for index, column in enumerate(common_columns_dic[common_columns]):\n",
    "                if index == 0:\n",
    "                    sum[common_columns] = merged_df[column]\n",
    "                else:\n",
    "                    sum[common_columns] = sum[common_columns] + merged_df[column]\n",
    "\n",
    "        self.snapshot = sum.copy()\n",
    "\n",
    "        \n",
    "\n",
    "\n",
    "\n",
    "level_range = 20\n",
    "\n",
    "processes_ = [\n",
    "    sProcessBooks('binance', 'btc_usdt', btc_price, level_range), \n",
    "    sProcessBooks('okx', 'btc_usdt', btc_price, level_range), \n",
    "    sProcessBooks('coinbase', 'btc_usd', btc_price, level_range),\n",
    "    ]\n",
    "\n",
    "b = sAggregatorUniversal('agg_books', processes_)\n",
    "\n",
    "\n",
    "for process in b.processes:\n",
    "  process.update_books(initial_books, 'bids', 'asks', 'timestamp')\n",
    "  process.dfs_input_books()\n",
    "  for e in books:\n",
    "      process.update_books(e, 'b', 'a', 'timestamp')\n",
    "      process.dfs_input_books()\n",
    "\n",
    "b.merge_snapshots()\n",
    "\n",
    "#b.snapshot"
   ]
  },
  {
   "cell_type": "code",
   "execution_count": null,
   "metadata": {},
   "outputs": [],
   "source": [
    "level_range = 20\n",
    "\n",
    "processes_ = [\n",
    "    sProcessTrades('binance', 'btc_usdt', btc_price, level_range), \n",
    "    sProcessTrades('okx', 'btc_usdt', btc_price, level_range), \n",
    "    sProcessTrades('coinbase', 'btc_usd', btc_price, level_range),\n",
    "    ]\n",
    "\n",
    "t = sAggregatorUniversal('agg_books', processes_)\n",
    "\n",
    "\n",
    "for process in t.processes:\n",
    "  for e in trades:\n",
    "      process.dfs_input_trades(btc_price, e, 'timestamp', 'p', 'q')\n",
    "\n",
    "t.merge_snapshots()\n",
    "\n",
    "#t.snapshot\n"
   ]
  },
  {
   "cell_type": "code",
   "execution_count": 6,
   "metadata": {},
   "outputs": [
    {
     "ename": "NameError",
     "evalue": "name 'b' is not defined",
     "output_type": "error",
     "traceback": [
      "\u001b[0;31m---------------------------------------------------------------------------\u001b[0m",
      "\u001b[0;31mNameError\u001b[0m                                 Traceback (most recent call last)",
      "Cell \u001b[0;32mIn[6], line 1\u001b[0m\n\u001b[0;32m----> 1\u001b[0m df_books \u001b[38;5;241m=\u001b[39m \u001b[43mb\u001b[49m\u001b[38;5;241m.\u001b[39msnapshot\u001b[38;5;241m.\u001b[39mcopy()\n\u001b[1;32m      2\u001b[0m df_trades \u001b[38;5;241m=\u001b[39m t\u001b[38;5;241m.\u001b[39msnapshot\u001b[38;5;241m.\u001b[39mcopy()\n\u001b[1;32m      4\u001b[0m merged_df \u001b[38;5;241m=\u001b[39m pd\u001b[38;5;241m.\u001b[39mmerge(df_books, df_trades, how\u001b[38;5;241m=\u001b[39m\u001b[38;5;124m'\u001b[39m\u001b[38;5;124mouter\u001b[39m\u001b[38;5;124m'\u001b[39m, left_index\u001b[38;5;241m=\u001b[39m\u001b[38;5;28;01mTrue\u001b[39;00m, right_index\u001b[38;5;241m=\u001b[39m\u001b[38;5;28;01mTrue\u001b[39;00m, suffixes\u001b[38;5;241m=\u001b[39m(\u001b[38;5;124m'\u001b[39m\u001b[38;5;124m_books\u001b[39m\u001b[38;5;124m'\u001b[39m, \u001b[38;5;124m'\u001b[39m\u001b[38;5;124m_trades\u001b[39m\u001b[38;5;124m'\u001b[39m))\n",
      "\u001b[0;31mNameError\u001b[0m: name 'b' is not defined"
     ]
    }
   ],
   "source": [
    "df_books = b.snapshot.copy()\n",
    "df_trades = t.snapshot.copy()\n",
    "\n",
    "merged_df = pd.merge(df_books, df_trades, how='outer', left_index=True, right_index=True, suffixes=('_books', '_trades'))\n",
    "common_columns = df_books.columns.intersection(df_trades.columns).tolist()\n",
    "\n",
    "for column in common_columns:\n",
    "    if \"price\" not in column:\n",
    "      merged_df[column] = merged_df[column + '_books'].sub(merged_df[column + '_trades'], fill_value=0)\n",
    "      merged_df = merged_df.drop([column + '_books', column + '_trades'], axis=1)\n",
    "merged_df = merged_df.drop('price_trades', axis=1)\n",
    "merged_df = merged_df.rename(columns={'price_books': 'price'})\n",
    "\n",
    "merged_df = sort_columns(merged_df)\n",
    "\n",
    "for index in range(len(merged_df)):\n",
    "    if index != 0:\n",
    "        merged_df.iloc[index-1] = merged_df.iloc[index].values - merged_df.iloc[index-1].values\n",
    "merged_df = merged_df.drop(merged_df.index[-1])\n",
    "merged_df = merged_df.var()\n"
   ]
  },
  {
   "cell_type": "code",
   "execution_count": 7,
   "metadata": {},
   "outputs": [
    {
     "ename": "ValueError",
     "evalue": "Must pass 2-d input. shape=(1, 4, 4)",
     "output_type": "error",
     "traceback": [
      "\u001b[0;31m---------------------------------------------------------------------------\u001b[0m",
      "\u001b[0;31mValueError\u001b[0m                                Traceback (most recent call last)",
      "Cell \u001b[0;32mIn[7], line 1\u001b[0m\n\u001b[0;32m----> 1\u001b[0m merged_df \u001b[38;5;241m=\u001b[39m \u001b[43mpd\u001b[49m\u001b[38;5;241;43m.\u001b[39;49m\u001b[43mDataFrame\u001b[49m\u001b[43m(\u001b[49m\u001b[43m[\u001b[49m\u001b[43mmerged_df\u001b[49m\u001b[38;5;241;43m.\u001b[39;49m\u001b[43mvalues\u001b[49m\u001b[43m]\u001b[49m\u001b[43m,\u001b[49m\u001b[43m \u001b[49m\u001b[43mcolumns\u001b[49m\u001b[38;5;241;43m=\u001b[39;49m\u001b[43mmerged_df\u001b[49m\u001b[38;5;241;43m.\u001b[39;49m\u001b[43mindex\u001b[49m\u001b[43m)\u001b[49m\n\u001b[1;32m      5\u001b[0m new_column_names \u001b[38;5;241m=\u001b[39m [\u001b[38;5;124m\"\u001b[39m\u001b[38;5;124m_\u001b[39m\u001b[38;5;124m\"\u001b[39m\u001b[38;5;241m.\u001b[39mjoin([x\u001b[38;5;241m.\u001b[39msplit(\u001b[38;5;124m'\u001b[39m\u001b[38;5;124m.\u001b[39m\u001b[38;5;124m'\u001b[39m)[\u001b[38;5;241m0\u001b[39m], \u001b[38;5;124m\"\u001b[39m\u001b[38;5;124mvar\u001b[39m\u001b[38;5;124m\"\u001b[39m]) \u001b[38;5;28;01mfor\u001b[39;00m x \u001b[38;5;129;01min\u001b[39;00m merged_df\u001b[38;5;241m.\u001b[39mcolumns\u001b[38;5;241m.\u001b[39mtolist()]\n\u001b[1;32m      6\u001b[0m merged_df \u001b[38;5;241m=\u001b[39m merged_df\u001b[38;5;241m.\u001b[39mrename(columns\u001b[38;5;241m=\u001b[39m\u001b[38;5;28mdict\u001b[39m(\u001b[38;5;28mzip\u001b[39m(merged_df\u001b[38;5;241m.\u001b[39mcolumns, new_column_names)))\n",
      "File \u001b[0;32m~/.local/lib/python3.10/site-packages/pandas/core/frame.py:822\u001b[0m, in \u001b[0;36mDataFrame.__init__\u001b[0;34m(self, data, index, columns, dtype, copy)\u001b[0m\n\u001b[1;32m    814\u001b[0m         mgr \u001b[38;5;241m=\u001b[39m arrays_to_mgr(\n\u001b[1;32m    815\u001b[0m             arrays,\n\u001b[1;32m    816\u001b[0m             columns,\n\u001b[0;32m   (...)\u001b[0m\n\u001b[1;32m    819\u001b[0m             typ\u001b[38;5;241m=\u001b[39mmanager,\n\u001b[1;32m    820\u001b[0m         )\n\u001b[1;32m    821\u001b[0m     \u001b[38;5;28;01melse\u001b[39;00m:\n\u001b[0;32m--> 822\u001b[0m         mgr \u001b[38;5;241m=\u001b[39m \u001b[43mndarray_to_mgr\u001b[49m\u001b[43m(\u001b[49m\n\u001b[1;32m    823\u001b[0m \u001b[43m            \u001b[49m\u001b[43mdata\u001b[49m\u001b[43m,\u001b[49m\n\u001b[1;32m    824\u001b[0m \u001b[43m            \u001b[49m\u001b[43mindex\u001b[49m\u001b[43m,\u001b[49m\n\u001b[1;32m    825\u001b[0m \u001b[43m            \u001b[49m\u001b[43mcolumns\u001b[49m\u001b[43m,\u001b[49m\n\u001b[1;32m    826\u001b[0m \u001b[43m            \u001b[49m\u001b[43mdtype\u001b[49m\u001b[38;5;241;43m=\u001b[39;49m\u001b[43mdtype\u001b[49m\u001b[43m,\u001b[49m\n\u001b[1;32m    827\u001b[0m \u001b[43m            \u001b[49m\u001b[43mcopy\u001b[49m\u001b[38;5;241;43m=\u001b[39;49m\u001b[43mcopy\u001b[49m\u001b[43m,\u001b[49m\n\u001b[1;32m    828\u001b[0m \u001b[43m            \u001b[49m\u001b[43mtyp\u001b[49m\u001b[38;5;241;43m=\u001b[39;49m\u001b[43mmanager\u001b[49m\u001b[43m,\u001b[49m\n\u001b[1;32m    829\u001b[0m \u001b[43m        \u001b[49m\u001b[43m)\u001b[49m\n\u001b[1;32m    830\u001b[0m \u001b[38;5;28;01melse\u001b[39;00m:\n\u001b[1;32m    831\u001b[0m     mgr \u001b[38;5;241m=\u001b[39m dict_to_mgr(\n\u001b[1;32m    832\u001b[0m         {},\n\u001b[1;32m    833\u001b[0m         index,\n\u001b[0;32m   (...)\u001b[0m\n\u001b[1;32m    836\u001b[0m         typ\u001b[38;5;241m=\u001b[39mmanager,\n\u001b[1;32m    837\u001b[0m     )\n",
      "File \u001b[0;32m~/.local/lib/python3.10/site-packages/pandas/core/internals/construction.py:319\u001b[0m, in \u001b[0;36mndarray_to_mgr\u001b[0;34m(values, index, columns, dtype, copy, typ)\u001b[0m\n\u001b[1;32m    314\u001b[0m     values \u001b[38;5;241m=\u001b[39m _ensure_2d(values)\n\u001b[1;32m    316\u001b[0m \u001b[38;5;28;01melse\u001b[39;00m:\n\u001b[1;32m    317\u001b[0m     \u001b[38;5;66;03m# by definition an array here\u001b[39;00m\n\u001b[1;32m    318\u001b[0m     \u001b[38;5;66;03m# the dtypes will be coerced to a single dtype\u001b[39;00m\n\u001b[0;32m--> 319\u001b[0m     values \u001b[38;5;241m=\u001b[39m \u001b[43m_prep_ndarraylike\u001b[49m\u001b[43m(\u001b[49m\u001b[43mvalues\u001b[49m\u001b[43m,\u001b[49m\u001b[43m \u001b[49m\u001b[43mcopy\u001b[49m\u001b[38;5;241;43m=\u001b[39;49m\u001b[43mcopy_on_sanitize\u001b[49m\u001b[43m)\u001b[49m\n\u001b[1;32m    321\u001b[0m \u001b[38;5;28;01mif\u001b[39;00m dtype \u001b[38;5;129;01mis\u001b[39;00m \u001b[38;5;129;01mnot\u001b[39;00m \u001b[38;5;28;01mNone\u001b[39;00m \u001b[38;5;129;01mand\u001b[39;00m values\u001b[38;5;241m.\u001b[39mdtype \u001b[38;5;241m!=\u001b[39m dtype:\n\u001b[1;32m    322\u001b[0m     \u001b[38;5;66;03m# GH#40110 see similar check inside sanitize_array\u001b[39;00m\n\u001b[1;32m    323\u001b[0m     values \u001b[38;5;241m=\u001b[39m sanitize_array(\n\u001b[1;32m    324\u001b[0m         values,\n\u001b[1;32m    325\u001b[0m         \u001b[38;5;28;01mNone\u001b[39;00m,\n\u001b[0;32m   (...)\u001b[0m\n\u001b[1;32m    328\u001b[0m         allow_2d\u001b[38;5;241m=\u001b[39m\u001b[38;5;28;01mTrue\u001b[39;00m,\n\u001b[1;32m    329\u001b[0m     )\n",
      "File \u001b[0;32m~/.local/lib/python3.10/site-packages/pandas/core/internals/construction.py:582\u001b[0m, in \u001b[0;36m_prep_ndarraylike\u001b[0;34m(values, copy)\u001b[0m\n\u001b[1;32m    579\u001b[0m \u001b[38;5;28;01melse\u001b[39;00m:\n\u001b[1;32m    580\u001b[0m     values \u001b[38;5;241m=\u001b[39m convert(values)\n\u001b[0;32m--> 582\u001b[0m \u001b[38;5;28;01mreturn\u001b[39;00m \u001b[43m_ensure_2d\u001b[49m\u001b[43m(\u001b[49m\u001b[43mvalues\u001b[49m\u001b[43m)\u001b[49m\n",
      "File \u001b[0;32m~/.local/lib/python3.10/site-packages/pandas/core/internals/construction.py:592\u001b[0m, in \u001b[0;36m_ensure_2d\u001b[0;34m(values)\u001b[0m\n\u001b[1;32m    590\u001b[0m     values \u001b[38;5;241m=\u001b[39m values\u001b[38;5;241m.\u001b[39mreshape((values\u001b[38;5;241m.\u001b[39mshape[\u001b[38;5;241m0\u001b[39m], \u001b[38;5;241m1\u001b[39m))\n\u001b[1;32m    591\u001b[0m \u001b[38;5;28;01melif\u001b[39;00m values\u001b[38;5;241m.\u001b[39mndim \u001b[38;5;241m!=\u001b[39m \u001b[38;5;241m2\u001b[39m:\n\u001b[0;32m--> 592\u001b[0m     \u001b[38;5;28;01mraise\u001b[39;00m \u001b[38;5;167;01mValueError\u001b[39;00m(\u001b[38;5;124mf\u001b[39m\u001b[38;5;124m\"\u001b[39m\u001b[38;5;124mMust pass 2-d input. shape=\u001b[39m\u001b[38;5;132;01m{\u001b[39;00mvalues\u001b[38;5;241m.\u001b[39mshape\u001b[38;5;132;01m}\u001b[39;00m\u001b[38;5;124m\"\u001b[39m)\n\u001b[1;32m    593\u001b[0m \u001b[38;5;28;01mreturn\u001b[39;00m values\n",
      "\u001b[0;31mValueError\u001b[0m: Must pass 2-d input. shape=(1, 4, 4)"
     ]
    }
   ],
   "source": [
    "\n",
    "merged_df = pd.DataFrame([merged_df.values], columns=merged_df.index)\n",
    "\n",
    "\n",
    "\n",
    "new_column_names = [\"_\".join([x.split('.')[0], \"var\"]) for x in merged_df.columns.tolist()]\n",
    "merged_df = merged_df.rename(columns=dict(zip(merged_df.columns, new_column_names)))\n",
    "merged_df"
   ]
  },
  {
   "cell_type": "code",
   "execution_count": 8,
   "metadata": {},
   "outputs": [
    {
     "ename": "TypeError",
     "evalue": "only length-1 arrays can be converted to Python scalars",
     "output_type": "error",
     "traceback": [
      "\u001b[0;31m---------------------------------------------------------------------------\u001b[0m",
      "\u001b[0;31mTypeError\u001b[0m                                 Traceback (most recent call last)",
      "Cell \u001b[0;32mIn[8], line 5\u001b[0m\n\u001b[1;32m      2\u001b[0m \u001b[38;5;28;01mimport\u001b[39;00m \u001b[38;5;21;01mmatplotlib\u001b[39;00m\u001b[38;5;21;01m.\u001b[39;00m\u001b[38;5;21;01mpyplot\u001b[39;00m \u001b[38;5;28;01mas\u001b[39;00m \u001b[38;5;21;01mplt\u001b[39;00m\n\u001b[1;32m      4\u001b[0m plt\u001b[38;5;241m.\u001b[39mfigure(figsize\u001b[38;5;241m=\u001b[39m(\u001b[38;5;241m8\u001b[39m, \u001b[38;5;241m5\u001b[39m))\n\u001b[0;32m----> 5\u001b[0m \u001b[43mplt\u001b[49m\u001b[38;5;241;43m.\u001b[39;49m\u001b[43mbar\u001b[49m\u001b[43m(\u001b[49m\u001b[43mmerged_df\u001b[49m\u001b[38;5;241;43m.\u001b[39;49m\u001b[43mindex\u001b[49m\u001b[38;5;241;43m.\u001b[39;49m\u001b[43mvalues\u001b[49m\u001b[43m,\u001b[49m\u001b[43m \u001b[49m\u001b[43mmerged_df\u001b[49m\u001b[38;5;241;43m.\u001b[39;49m\u001b[43mvalues\u001b[49m\u001b[43m)\u001b[49m\n\u001b[1;32m      6\u001b[0m plt\u001b[38;5;241m.\u001b[39mtitle(\u001b[38;5;124m'\u001b[39m\u001b[38;5;124mSample DataFrame Plot\u001b[39m\u001b[38;5;124m'\u001b[39m)\n\u001b[1;32m      7\u001b[0m plt\u001b[38;5;241m.\u001b[39mxlabel(\u001b[38;5;124m'\u001b[39m\u001b[38;5;124mIndex\u001b[39m\u001b[38;5;124m'\u001b[39m)\n",
      "File \u001b[0;32m~/.local/lib/python3.10/site-packages/matplotlib/pyplot.py:2739\u001b[0m, in \u001b[0;36mbar\u001b[0;34m(x, height, width, bottom, align, data, **kwargs)\u001b[0m\n\u001b[1;32m   2728\u001b[0m \u001b[38;5;129m@_copy_docstring_and_deprecators\u001b[39m(Axes\u001b[38;5;241m.\u001b[39mbar)\n\u001b[1;32m   2729\u001b[0m \u001b[38;5;28;01mdef\u001b[39;00m \u001b[38;5;21mbar\u001b[39m(\n\u001b[1;32m   2730\u001b[0m     x: \u001b[38;5;28mfloat\u001b[39m \u001b[38;5;241m|\u001b[39m ArrayLike,\n\u001b[0;32m   (...)\u001b[0m\n\u001b[1;32m   2737\u001b[0m     \u001b[38;5;241m*\u001b[39m\u001b[38;5;241m*\u001b[39mkwargs,\n\u001b[1;32m   2738\u001b[0m ) \u001b[38;5;241m-\u001b[39m\u001b[38;5;241m>\u001b[39m BarContainer:\n\u001b[0;32m-> 2739\u001b[0m     \u001b[38;5;28;01mreturn\u001b[39;00m \u001b[43mgca\u001b[49m\u001b[43m(\u001b[49m\u001b[43m)\u001b[49m\u001b[38;5;241;43m.\u001b[39;49m\u001b[43mbar\u001b[49m\u001b[43m(\u001b[49m\n\u001b[1;32m   2740\u001b[0m \u001b[43m        \u001b[49m\u001b[43mx\u001b[49m\u001b[43m,\u001b[49m\n\u001b[1;32m   2741\u001b[0m \u001b[43m        \u001b[49m\u001b[43mheight\u001b[49m\u001b[43m,\u001b[49m\n\u001b[1;32m   2742\u001b[0m \u001b[43m        \u001b[49m\u001b[43mwidth\u001b[49m\u001b[38;5;241;43m=\u001b[39;49m\u001b[43mwidth\u001b[49m\u001b[43m,\u001b[49m\n\u001b[1;32m   2743\u001b[0m \u001b[43m        \u001b[49m\u001b[43mbottom\u001b[49m\u001b[38;5;241;43m=\u001b[39;49m\u001b[43mbottom\u001b[49m\u001b[43m,\u001b[49m\n\u001b[1;32m   2744\u001b[0m \u001b[43m        \u001b[49m\u001b[43malign\u001b[49m\u001b[38;5;241;43m=\u001b[39;49m\u001b[43malign\u001b[49m\u001b[43m,\u001b[49m\n\u001b[1;32m   2745\u001b[0m \u001b[43m        \u001b[49m\u001b[38;5;241;43m*\u001b[39;49m\u001b[38;5;241;43m*\u001b[39;49m\u001b[43m(\u001b[49m\u001b[43m{\u001b[49m\u001b[38;5;124;43m\"\u001b[39;49m\u001b[38;5;124;43mdata\u001b[39;49m\u001b[38;5;124;43m\"\u001b[39;49m\u001b[43m:\u001b[49m\u001b[43m \u001b[49m\u001b[43mdata\u001b[49m\u001b[43m}\u001b[49m\u001b[43m \u001b[49m\u001b[38;5;28;43;01mif\u001b[39;49;00m\u001b[43m \u001b[49m\u001b[43mdata\u001b[49m\u001b[43m \u001b[49m\u001b[38;5;129;43;01mis\u001b[39;49;00m\u001b[43m \u001b[49m\u001b[38;5;129;43;01mnot\u001b[39;49;00m\u001b[43m \u001b[49m\u001b[38;5;28;43;01mNone\u001b[39;49;00m\u001b[43m \u001b[49m\u001b[38;5;28;43;01melse\u001b[39;49;00m\u001b[43m \u001b[49m\u001b[43m{\u001b[49m\u001b[43m}\u001b[49m\u001b[43m)\u001b[49m\u001b[43m,\u001b[49m\n\u001b[1;32m   2746\u001b[0m \u001b[43m        \u001b[49m\u001b[38;5;241;43m*\u001b[39;49m\u001b[38;5;241;43m*\u001b[39;49m\u001b[43mkwargs\u001b[49m\u001b[43m,\u001b[49m\n\u001b[1;32m   2747\u001b[0m \u001b[43m    \u001b[49m\u001b[43m)\u001b[49m\n",
      "File \u001b[0;32m~/.local/lib/python3.10/site-packages/matplotlib/__init__.py:1465\u001b[0m, in \u001b[0;36m_preprocess_data.<locals>.inner\u001b[0;34m(ax, data, *args, **kwargs)\u001b[0m\n\u001b[1;32m   1462\u001b[0m \u001b[38;5;129m@functools\u001b[39m\u001b[38;5;241m.\u001b[39mwraps(func)\n\u001b[1;32m   1463\u001b[0m \u001b[38;5;28;01mdef\u001b[39;00m \u001b[38;5;21minner\u001b[39m(ax, \u001b[38;5;241m*\u001b[39margs, data\u001b[38;5;241m=\u001b[39m\u001b[38;5;28;01mNone\u001b[39;00m, \u001b[38;5;241m*\u001b[39m\u001b[38;5;241m*\u001b[39mkwargs):\n\u001b[1;32m   1464\u001b[0m     \u001b[38;5;28;01mif\u001b[39;00m data \u001b[38;5;129;01mis\u001b[39;00m \u001b[38;5;28;01mNone\u001b[39;00m:\n\u001b[0;32m-> 1465\u001b[0m         \u001b[38;5;28;01mreturn\u001b[39;00m \u001b[43mfunc\u001b[49m\u001b[43m(\u001b[49m\u001b[43max\u001b[49m\u001b[43m,\u001b[49m\u001b[43m \u001b[49m\u001b[38;5;241;43m*\u001b[39;49m\u001b[38;5;28;43mmap\u001b[39;49m\u001b[43m(\u001b[49m\u001b[43msanitize_sequence\u001b[49m\u001b[43m,\u001b[49m\u001b[43m \u001b[49m\u001b[43margs\u001b[49m\u001b[43m)\u001b[49m\u001b[43m,\u001b[49m\u001b[43m \u001b[49m\u001b[38;5;241;43m*\u001b[39;49m\u001b[38;5;241;43m*\u001b[39;49m\u001b[43mkwargs\u001b[49m\u001b[43m)\u001b[49m\n\u001b[1;32m   1467\u001b[0m     bound \u001b[38;5;241m=\u001b[39m new_sig\u001b[38;5;241m.\u001b[39mbind(ax, \u001b[38;5;241m*\u001b[39margs, \u001b[38;5;241m*\u001b[39m\u001b[38;5;241m*\u001b[39mkwargs)\n\u001b[1;32m   1468\u001b[0m     auto_label \u001b[38;5;241m=\u001b[39m (bound\u001b[38;5;241m.\u001b[39marguments\u001b[38;5;241m.\u001b[39mget(label_namer)\n\u001b[1;32m   1469\u001b[0m                   \u001b[38;5;129;01mor\u001b[39;00m bound\u001b[38;5;241m.\u001b[39mkwargs\u001b[38;5;241m.\u001b[39mget(label_namer))\n",
      "File \u001b[0;32m~/.local/lib/python3.10/site-packages/matplotlib/axes/_axes.py:2520\u001b[0m, in \u001b[0;36mAxes.bar\u001b[0;34m(self, x, height, width, bottom, align, **kwargs)\u001b[0m\n\u001b[1;32m   2517\u001b[0m args \u001b[38;5;241m=\u001b[39m \u001b[38;5;28mzip\u001b[39m(left, bottom, width, height, color, edgecolor, linewidth,\n\u001b[1;32m   2518\u001b[0m            hatch, patch_labels)\n\u001b[1;32m   2519\u001b[0m \u001b[38;5;28;01mfor\u001b[39;00m l, b, w, h, c, e, lw, htch, lbl \u001b[38;5;129;01min\u001b[39;00m args:\n\u001b[0;32m-> 2520\u001b[0m     r \u001b[38;5;241m=\u001b[39m \u001b[43mmpatches\u001b[49m\u001b[38;5;241;43m.\u001b[39;49m\u001b[43mRectangle\u001b[49m\u001b[43m(\u001b[49m\n\u001b[1;32m   2521\u001b[0m \u001b[43m        \u001b[49m\u001b[43mxy\u001b[49m\u001b[38;5;241;43m=\u001b[39;49m\u001b[43m(\u001b[49m\u001b[43ml\u001b[49m\u001b[43m,\u001b[49m\u001b[43m \u001b[49m\u001b[43mb\u001b[49m\u001b[43m)\u001b[49m\u001b[43m,\u001b[49m\u001b[43m \u001b[49m\u001b[43mwidth\u001b[49m\u001b[38;5;241;43m=\u001b[39;49m\u001b[43mw\u001b[49m\u001b[43m,\u001b[49m\u001b[43m \u001b[49m\u001b[43mheight\u001b[49m\u001b[38;5;241;43m=\u001b[39;49m\u001b[43mh\u001b[49m\u001b[43m,\u001b[49m\n\u001b[1;32m   2522\u001b[0m \u001b[43m        \u001b[49m\u001b[43mfacecolor\u001b[49m\u001b[38;5;241;43m=\u001b[39;49m\u001b[43mc\u001b[49m\u001b[43m,\u001b[49m\n\u001b[1;32m   2523\u001b[0m \u001b[43m        \u001b[49m\u001b[43medgecolor\u001b[49m\u001b[38;5;241;43m=\u001b[39;49m\u001b[43me\u001b[49m\u001b[43m,\u001b[49m\n\u001b[1;32m   2524\u001b[0m \u001b[43m        \u001b[49m\u001b[43mlinewidth\u001b[49m\u001b[38;5;241;43m=\u001b[39;49m\u001b[43mlw\u001b[49m\u001b[43m,\u001b[49m\n\u001b[1;32m   2525\u001b[0m \u001b[43m        \u001b[49m\u001b[43mlabel\u001b[49m\u001b[38;5;241;43m=\u001b[39;49m\u001b[43mlbl\u001b[49m\u001b[43m,\u001b[49m\n\u001b[1;32m   2526\u001b[0m \u001b[43m        \u001b[49m\u001b[43mhatch\u001b[49m\u001b[38;5;241;43m=\u001b[39;49m\u001b[43mhtch\u001b[49m\u001b[43m,\u001b[49m\n\u001b[1;32m   2527\u001b[0m \u001b[43m        \u001b[49m\u001b[43m)\u001b[49m\n\u001b[1;32m   2528\u001b[0m     r\u001b[38;5;241m.\u001b[39m_internal_update(kwargs)\n\u001b[1;32m   2529\u001b[0m     r\u001b[38;5;241m.\u001b[39mget_path()\u001b[38;5;241m.\u001b[39m_interpolation_steps \u001b[38;5;241m=\u001b[39m \u001b[38;5;241m100\u001b[39m\n",
      "File \u001b[0;32m~/.local/lib/python3.10/site-packages/matplotlib/patches.py:718\u001b[0m, in \u001b[0;36mRectangle.__init__\u001b[0;34m(self, xy, width, height, angle, rotation_point, **kwargs)\u001b[0m\n\u001b[1;32m    694\u001b[0m \u001b[38;5;129m@_docstring\u001b[39m\u001b[38;5;241m.\u001b[39mdedent_interpd\n\u001b[1;32m    695\u001b[0m \u001b[38;5;28;01mdef\u001b[39;00m \u001b[38;5;21m__init__\u001b[39m(\u001b[38;5;28mself\u001b[39m, xy, width, height, \u001b[38;5;241m*\u001b[39m,\n\u001b[1;32m    696\u001b[0m              angle\u001b[38;5;241m=\u001b[39m\u001b[38;5;241m0.0\u001b[39m, rotation_point\u001b[38;5;241m=\u001b[39m\u001b[38;5;124m'\u001b[39m\u001b[38;5;124mxy\u001b[39m\u001b[38;5;124m'\u001b[39m, \u001b[38;5;241m*\u001b[39m\u001b[38;5;241m*\u001b[39mkwargs):\n\u001b[1;32m    697\u001b[0m \u001b[38;5;250m    \u001b[39m\u001b[38;5;124;03m\"\"\"\u001b[39;00m\n\u001b[1;32m    698\u001b[0m \u001b[38;5;124;03m    Parameters\u001b[39;00m\n\u001b[1;32m    699\u001b[0m \u001b[38;5;124;03m    ----------\u001b[39;00m\n\u001b[0;32m   (...)\u001b[0m\n\u001b[1;32m    716\u001b[0m \u001b[38;5;124;03m        %(Patch:kwdoc)s\u001b[39;00m\n\u001b[1;32m    717\u001b[0m \u001b[38;5;124;03m    \"\"\"\u001b[39;00m\n\u001b[0;32m--> 718\u001b[0m     \u001b[38;5;28;43msuper\u001b[39;49m\u001b[43m(\u001b[49m\u001b[43m)\u001b[49m\u001b[38;5;241;43m.\u001b[39;49m\u001b[38;5;21;43m__init__\u001b[39;49m\u001b[43m(\u001b[49m\u001b[38;5;241;43m*\u001b[39;49m\u001b[38;5;241;43m*\u001b[39;49m\u001b[43mkwargs\u001b[49m\u001b[43m)\u001b[49m\n\u001b[1;32m    719\u001b[0m     \u001b[38;5;28mself\u001b[39m\u001b[38;5;241m.\u001b[39m_x0 \u001b[38;5;241m=\u001b[39m xy[\u001b[38;5;241m0\u001b[39m]\n\u001b[1;32m    720\u001b[0m     \u001b[38;5;28mself\u001b[39m\u001b[38;5;241m.\u001b[39m_y0 \u001b[38;5;241m=\u001b[39m xy[\u001b[38;5;241m1\u001b[39m]\n",
      "File \u001b[0;32m~/.local/lib/python3.10/site-packages/matplotlib/patches.py:91\u001b[0m, in \u001b[0;36mPatch.__init__\u001b[0;34m(self, edgecolor, facecolor, color, linewidth, linestyle, antialiased, hatch, fill, capstyle, joinstyle, **kwargs)\u001b[0m\n\u001b[1;32m     88\u001b[0m \u001b[38;5;28mself\u001b[39m\u001b[38;5;241m.\u001b[39m_dash_pattern \u001b[38;5;241m=\u001b[39m (\u001b[38;5;241m0\u001b[39m, \u001b[38;5;28;01mNone\u001b[39;00m)  \u001b[38;5;66;03m# offset, dash (scaled by linewidth)\u001b[39;00m\n\u001b[1;32m     90\u001b[0m \u001b[38;5;28mself\u001b[39m\u001b[38;5;241m.\u001b[39mset_linestyle(linestyle)\n\u001b[0;32m---> 91\u001b[0m \u001b[38;5;28;43mself\u001b[39;49m\u001b[38;5;241;43m.\u001b[39;49m\u001b[43mset_linewidth\u001b[49m\u001b[43m(\u001b[49m\u001b[43mlinewidth\u001b[49m\u001b[43m)\u001b[49m\n\u001b[1;32m     92\u001b[0m \u001b[38;5;28mself\u001b[39m\u001b[38;5;241m.\u001b[39mset_antialiased(antialiased)\n\u001b[1;32m     93\u001b[0m \u001b[38;5;28mself\u001b[39m\u001b[38;5;241m.\u001b[39mset_hatch(hatch)\n",
      "File \u001b[0;32m~/.local/lib/python3.10/site-packages/matplotlib/patches.py:391\u001b[0m, in \u001b[0;36mPatch.set_linewidth\u001b[0;34m(self, w)\u001b[0m\n\u001b[1;32m    389\u001b[0m \u001b[38;5;28;01mif\u001b[39;00m w \u001b[38;5;129;01mis\u001b[39;00m \u001b[38;5;28;01mNone\u001b[39;00m:\n\u001b[1;32m    390\u001b[0m     w \u001b[38;5;241m=\u001b[39m mpl\u001b[38;5;241m.\u001b[39mrcParams[\u001b[38;5;124m'\u001b[39m\u001b[38;5;124mpatch.linewidth\u001b[39m\u001b[38;5;124m'\u001b[39m]\n\u001b[0;32m--> 391\u001b[0m \u001b[38;5;28mself\u001b[39m\u001b[38;5;241m.\u001b[39m_linewidth \u001b[38;5;241m=\u001b[39m \u001b[38;5;28;43mfloat\u001b[39;49m\u001b[43m(\u001b[49m\u001b[43mw\u001b[49m\u001b[43m)\u001b[49m\n\u001b[1;32m    392\u001b[0m \u001b[38;5;28mself\u001b[39m\u001b[38;5;241m.\u001b[39m_dash_pattern \u001b[38;5;241m=\u001b[39m mlines\u001b[38;5;241m.\u001b[39m_scale_dashes(\n\u001b[1;32m    393\u001b[0m     \u001b[38;5;241m*\u001b[39m\u001b[38;5;28mself\u001b[39m\u001b[38;5;241m.\u001b[39m_unscaled_dash_pattern, w)\n\u001b[1;32m    394\u001b[0m \u001b[38;5;28mself\u001b[39m\u001b[38;5;241m.\u001b[39mstale \u001b[38;5;241m=\u001b[39m \u001b[38;5;28;01mTrue\u001b[39;00m\n",
      "\u001b[0;31mTypeError\u001b[0m: only length-1 arrays can be converted to Python scalars"
     ]
    },
    {
     "data": {
      "image/png": "[encoded data removed]",
      "text/plain": [
       "<Figure size 800x500 with 1 Axes>"
      ]
     },
     "metadata": {},
     "output_type": "display_data"
    }
   ],
   "source": [
    "import pandas as pd\n",
    "import matplotlib.pyplot as plt\n",
    "\n",
    "plt.figure(figsize=(8, 5))\n",
    "plt.bar(merged_df.index.values, merged_df.values)\n",
    "plt.title('Sample DataFrame Plot')\n",
    "plt.xlabel('Index')\n",
    "plt.ylabel('Values')\n",
    "plt.legend()\n",
    "plt.show()"
   ]
  },
  {
   "cell_type": "code",
   "execution_count": 9,
   "metadata": {},
   "outputs": [
    {
     "ename": "SyntaxError",
     "evalue": "expected ':' (250007843.py, line 45)",
     "output_type": "error",
     "traceback": [
      "\u001b[0;36m  Cell \u001b[0;32mIn[9], line 45\u001b[0;36m\u001b[0m\n\u001b[0;31m    if len(self.snapshot) > self.snap_length\u001b[0m\n\u001b[0m                                             ^\u001b[0m\n\u001b[0;31mSyntaxError\u001b[0m\u001b[0;31m:\u001b[0m expected ':'\n"
     ]
    }
   ],
   "source": [
    "class m_Variance_books():\n",
    "    \"\"\"\n",
    "        Processes heatmaps of variances of books  --  trades\n",
    "        It is suppoused to capture weather spoofing, weather price chasers\n",
    "    \"\"\"\n",
    "\n",
    "    def __init__ (self, processes, snap_length=744):\n",
    "\n",
    "        \"\"\"\n",
    "          processes : Aggregator if books and trades . [0]  - books,  [1] --- trades. Must be consistent\n",
    "          snap_length : The length of the snapshot to keep\n",
    "        \"\"\"\n",
    "\n",
    "        self.processes = processes\n",
    "        self.snapshot = None\n",
    "        self.snap_length = snap_length\n",
    "\n",
    "        def get_variances(self, current_price):\n",
    "\n",
    "            df_books = processes[0]\n",
    "            df_trades = t.snapshot.copy()\n",
    "\n",
    "            merged_df = pd.merge(df_books, df_trades, how='outer', left_index=True, right_index=True, suffixes=('_books', '_trades'))\n",
    "            common_columns = df_books.columns.intersection(df_trades.columns).tolist()\n",
    "\n",
    "            for column in common_columns:\n",
    "                if \"price\" not in column:\n",
    "                  merged_df[column] = merged_df[column + '_books'].sub(merged_df[column + '_trades'], fill_value=0)\n",
    "                  merged_df = merged_df.drop([column + '_books', column + '_trades'], axis=1)\n",
    "            merged_df = merged_df.drop('price_trades', axis=1)\n",
    "            merged_df = merged_df.rename(columns={'price_books': 'price'})\n",
    "\n",
    "            merged_df = sort_columns(merged_df)\n",
    "\n",
    "            for index in range(len(merged_df)):\n",
    "                if index != 0:\n",
    "                    merged_df.iloc[index-1] = merged_df.iloc[index].values - merged_df.iloc[index-1].values\n",
    "            merged_df = merged_df.drop(merged_df.index[-1])\n",
    "            merged_df = merged_df.var()\n",
    "            merged_df = pd.DataFrame([merged_df.values], columns=merged_df.index)\n",
    "            new_column_names = [\"_\".join([x.split('.')[0], \"var\"]) for x in merged_df.columns.tolist()]\n",
    "            merged_df = merged_df.rename(columns=dict(zip(merged_df.columns, new_column_names)))\n",
    "            self.snapshot = pd.concat([self.snapshot, merged_df.copy()], axis=0)\n",
    "\n",
    "            if len(self.snapshot) > self.snap_length:\n",
    "                self.snapshot = self.snapshot.drop(0)"
   ]
  },
  {
   "cell_type": "code",
   "execution_count": null,
   "metadata": {},
   "outputs": [],
   "source": [
    "def ohelper_percentage_difference(center, value):\n",
    "    if center == 0 and value > center:\n",
    "        return float(100)\n",
    "    if value == 0 and value < center:\n",
    "        return float(9999999999)\n",
    "    else:\n",
    "        diff = value - center\n",
    "        average = (center + value) / 2\n",
    "        percentage_diff = (diff / average) * 100\n",
    "        return percentage_diff"
   ]
  },
  {
   "cell_type": "code",
   "execution_count": null,
   "metadata": {},
   "outputs": [],
   "source": [
    "current_price = 100\n",
    "\n",
    "prices = [80, 93.22, 50.22, 100.22, 110, 190.22]\n",
    "\n",
    "\n",
    "[ohelper_percentage_difference(current_price, price) for price in prices]\n"
   ]
  },
  {
   "cell_type": "code",
   "execution_count": null,
   "metadata": {},
   "outputs": [],
   "source": [
    "def choose_range(current_price, level, level_ranges):\n",
    "    \n",
    "    pd = ohelper_percentage_difference(current_price, level)\n",
    "\n",
    "    for index, r in enumerate(level_ranges):\n",
    "        \n",
    "        if index == 0 and pd < level_ranges[0]:\n",
    "            return r\n",
    "\n",
    "        elif index != 0 and index != len(level_ranges)-1 and pd >= level_ranges[index-1] and pd < level_ranges[index]:\n",
    "            return r\n",
    "        \n",
    "        if index == len(level_ranges)-1 and pd >= level_ranges[index-1]:\n",
    "            return t"
   ]
  },
  {
   "cell_type": "code",
   "execution_count": null,
   "metadata": {},
   "outputs": [],
   "source": [
    "current_price = (float(initial_books['bids'][0][0]) + float(initial_books['asks'][0][0])) / 2\n",
    "\n",
    "levels = np.array([0, 0.1, 0.2,  0.5, 0.75, 1.0, 2.0, 5.0, 10.0])\n",
    "levels = np.sort(np.concatenate((levels, -1 * levels)))\n",
    "levels = levels[(levels != -0)]\n",
    "levels = np.append(levels, 100.0)\n",
    "\n",
    "print(levels)\n",
    "\n",
    "columns = [e.replace(\".0\", \"\").replace(\"-\", \"n_\").replace(\".\", \"_\") for e in [\"price\"] + [\"\".join([str(x), \"_var\"]) for x in levels]]\n",
    "\n",
    "new_df = pd.DataFrame(columns=columns)\n",
    " \n",
    "\n",
    "df = merged_df.copy()\n",
    "\n",
    "price_var = df[\"price_var\"].values[0]\n",
    "\n",
    "df = df.drop(\"price_var\", axis=1)\n",
    "\n",
    "\n",
    "columns_float = [float(x.split('_')[0]) for x in df.columns.tolist()]\n",
    "values_ = df.values[0]\n",
    "choosed_level = np.array([choose_range(current_price, v, levels) for v in columns_float])\n",
    "\n",
    "# Do not forget about the 00000 columns\n",
    "\n",
    "unique_values, indices = np.unique(choosed_level, return_inverse=True)\n",
    "sums = [np.sum(values_[indices == val]) for val in unique_values]\n",
    "print(sums, unique_values)"
   ]
  },
  {
   "cell_type": "code",
   "execution_count": 10,
   "metadata": {},
   "outputs": [
    {
     "data": {
      "text/plain": [
       "array([False, False,  True,  True,  True,  True,  True,  True,  True,\n",
       "        True,  True,  True,  True,  True,  True, False, False])"
      ]
     },
     "execution_count": 10,
     "metadata": {},
     "output_type": "execute_result"
    }
   ],
   "source": [
    "import numpy as np\n",
    "\n",
    "# Given arrays\n",
    "array_1 = np.array([-10., -5., -2., -1., -0.75, -0.5, -0.2, -0.1, 0.1, 0.2, 0.5, 0.75, 1., 2., 5., 10., 100.])\n",
    "array_2 = np.array([-2., -1., -0.75, -0.5, -0.2, -0.1, 0.1, 0.2, 0.5, 0.75, 1., 2., 5.])\n",
    "array_3 = np.array([0.0, 0.0, 0.0, 0.0, 0.0, 0.0, 0.0, 0.0, 0.0, 0.0, 427.71, 29.6, 14.76])\n",
    "\n",
    "array_4 = np.zeros_like(array_1)\n",
    "#array_3_ = np.pad(array_3, (0, len(array_1) - len(array_2)), 'constant')\n",
    "\n",
    "common_indices = np.isin(array_1, array_2)\n",
    "\n",
    "common_indices"
   ]
  },
  {
   "cell_type": "code",
   "execution_count": 11,
   "metadata": {},
   "outputs": [
    {
     "name": "stdout",
     "output_type": "stream",
     "text": [
      "[  0.     0.     0.     0.     0.     0.     0.     0.     0.     0.\n",
      "   0.     0.   427.71  29.6   14.76   0.     0.  ]\n"
     ]
    }
   ],
   "source": [
    "import numpy as np\n",
    "\n",
    "array1 = np.array([-10., -5., -2., -1., -0.75, -0.5, -0.2, -0.1, 0.1, 0.2, 0.5, 0.75, 1., 2., 5., 10., 100.])\n",
    "array2 = np.array([-2., -1., -0.75, -0.5, -0.2, -0.1, 0.1, 0.2, 0.5, 0.75, 1., 2., 5.])\n",
    "array3 = np.array([0.0, 0.0, 0.0, 0.0, 0.0, 0.0, 0.0, 0.0, 0.0, 0.0, 427.71, 29.6, 14.76])\n",
    "\n",
    "def g(array1, array2, array3):\n",
    "    array4 = np.zeros_like(array1)\n",
    "    for i in range(len(array1)):\n",
    "        if array1[i] in array2:\n",
    "            array4[i] = array3[array2.tolist().index(array1[i])]\n",
    "    return array4\n",
    "\n",
    "array4 = g(array1.copy(), array2.copy(), array3.copy())\n",
    "print(array4)"
   ]
  },
  {
   "cell_type": "code",
   "execution_count": null,
   "metadata": {},
   "outputs": [],
   "source": []
  }
 ],
 "metadata": {
  "kernelspec": {
   "display_name": "Python 3",
   "language": "python",
   "name": "python3"
  },
  "language_info": {
   "codemirror_mode": {
    "name": "ipython",
    "version": 3
   },
   "file_extension": ".py",
   "mimetype": "text/x-python",
   "name": "python",
   "nbconvert_exporter": "python",
   "pygments_lexer": "ipython3",
   "version": "3.10.13"
  }
 },
 "nbformat": 4,
 "nbformat_minor": 2
}
