{
 "cells": [
  {
   "cell_type": "code",
   "execution_count": 3,
   "metadata": {},
   "outputs": [
    {
     "ename": "ModuleNotFoundError",
     "evalue": "No module named 'TradeEngine'",
     "output_type": "error",
     "traceback": [
      "\u001b[0;31m---------------------------------------------------------------------------\u001b[0m",
      "\u001b[0;31mModuleNotFoundError\u001b[0m                       Traceback (most recent call last)",
      "Cell \u001b[0;32mIn[3], line 7\u001b[0m\n\u001b[1;32m      5\u001b[0m \u001b[38;5;28;01mimport\u001b[39;00m \u001b[38;5;21;01mtime\u001b[39;00m\n\u001b[1;32m      6\u001b[0m sys\u001b[38;5;241m.\u001b[39mpath\u001b[38;5;241m.\u001b[39mappend(\u001b[38;5;124m'\u001b[39m\u001b[38;5;124mTradeEngine\u001b[39m\u001b[38;5;124m'\u001b[39m)\n\u001b[0;32m----> 7\u001b[0m \u001b[38;5;28;01mfrom\u001b[39;00m \u001b[38;5;21;01mTradeEngine\u001b[39;00m\u001b[38;5;21;01m.\u001b[39;00m\u001b[38;5;21;01mspot_futures\u001b[39;00m\u001b[38;5;21;01m.\u001b[39;00m\u001b[38;5;21;01msProcess\u001b[39;00m \u001b[38;5;28;01mimport\u001b[39;00m sProcessBooks, sProcessTrades, sProcessOI, sProcessLiquidations\n\u001b[1;32m      8\u001b[0m \u001b[38;5;66;03m# from TradeEngine.spot_futures.mAggregator import mAggregator\u001b[39;00m\n",
      "\u001b[0;31mModuleNotFoundError\u001b[0m: No module named 'TradeEngine'"
     ]
    }
   ],
   "source": [
    "import sys\n",
    "import os\n",
    "import json\n",
    "import numpy as np\n",
    "import time\n",
    "sys.path.append('TradeEngine')\n",
    "from TradeEngine.spot_futures.sProcess import sProcessBooks, sProcessTrades, sProcessOI, sProcessLiquidations\n",
    "# from TradeEngine.spot_futures.mAggregator import mAggregator"
   ]
  },
  {
   "cell_type": "markdown",
   "metadata": {},
   "source": [
    "# Content\n",
    "\n",
    "- sProcessBooks: An example of processing books streams into a minute dataframe\n",
    "- sProcessTrades: An example of processing trades streams into a minute dataframe\n",
    "- sProcessOI: An example of processing books open interest into a minute dataframe\n",
    "- sProcessLiquidations: An example of processing liquidations streams into a minute dataframe\n",
    "\n",
    "# Forking\n",
    "\n",
    "- Adjust dictionary accessing accoring to its keys\n",
    "\n",
    "        current_second = int(trade[t_name] % 60)  \n",
    "        self.current_second = current_second \n",
    "        current_price = # The logic of accessing the price\n",
    "        amount = float(trade[l_name])"
   ]
  },
  {
   "cell_type": "markdown",
   "metadata": {},
   "source": [
    "# Books\n"
   ]
  },
  {
   "cell_type": "code",
   "execution_count": null,
   "metadata": {},
   "outputs": [],
   "source": [
    "initial_books = json.load(open('examples/data/binance_perp/books.json', 'r'))\n",
    "trades = json.load(open('examples/data/binance_per/trades.json', 'r'))\n",
    "books = json.load(open('examples/data/binance_perp/bupdates.json', 'r'))\n",
    "\n",
    "btc_price = (float(initial_books['bids'][0][0]) + float(initial_books['asks'][0][0])) / 2\n",
    "\n",
    "a  = sProcessBooks('binance', 'btc_usdt', btc_price, 20)\n",
    "start =time.time()\n",
    "a.update_books(initial_books, 'bids', 'asks', 'timestamp')\n",
    "a.dfs_input_books()\n",
    "for e in books:\n",
    "    a.update_books(e, 'b', 'a', 'timestamp')\n",
    "    a.dfs_input_books()\n",
    "print(f\"elapsed_time for {len(books)+1} iterations: \", time.time() - start)\n",
    "a.snapshot.isna().sum().sum()\n",
    "print(f\"elapsed_time for {len(books)+1} iterations: \", time.time() - start)"
   ]
  },
  {
   "cell_type": "markdown",
   "metadata": {},
   "source": [
    "# Trades"
   ]
  },
  {
   "cell_type": "code",
   "execution_count": null,
   "metadata": {},
   "outputs": [],
   "source": [
    "trades = json.load(open('examples/data/binance_perp/trades.json', 'r'))\n",
    "\n",
    "a  = sProcessTrades('binance', 'btc_usdt', btc_price, 20)\n",
    "start = time.time()\n",
    "for e in trades:\n",
    "    a.dfs_input_trades(btc_price, e, 'timestamp', 'p', 'q')\n",
    "print(\"elapsed_time : \", time.time() - start)"
   ]
  },
  {
   "cell_type": "markdown",
   "metadata": {},
   "source": [
    "# Open Interest"
   ]
  },
  {
   "cell_type": "code",
   "execution_count": null,
   "metadata": {},
   "outputs": [],
   "source": [
    "trades = json.load(open('examples/data/binance_perp/trades.json', 'r'))\n",
    "a  = sProcessOI('binance', 'btc_usdt', btc_price, 20)\n",
    "start = time.time()\n",
    "for e in trades:\n",
    "    a.dfs_input_OI(btc_price, e, 'timestamp', 'p', 'q')\n",
    "print(\"elapsed_time : \", time.time() - start)"
   ]
  },
  {
   "cell_type": "markdown",
   "metadata": {},
   "source": [
    "# Liquidations"
   ]
  },
  {
   "cell_type": "code",
   "execution_count": null,
   "metadata": {},
   "outputs": [],
   "source": [
    "trades = json.load(open('examples/data/binance_perp/trades.json', 'r'))\n",
    "a  = sProcessLiquidations('binance', 'btc_usdt', btc_price, 20)\n",
    "start = time.time()\n",
    "for e in trades:\n",
    "    a.dfs_input_Liquidations(btc_price, e, 'timestamp', 'p', 'q')\n",
    "\n",
    "print(\"elapsed : \", time.time() - start)"
   ]
  }
 ],
 "metadata": {
  "kernelspec": {
   "display_name": "Python 3",
   "language": "python",
   "name": "python3"
  },
  "language_info": {
   "codemirror_mode": {
    "name": "ipython",
    "version": 3
   },
   "file_extension": ".py",
   "mimetype": "text/x-python",
   "name": "python",
   "nbconvert_exporter": "python",
   "pygments_lexer": "ipython3",
   "version": "3.10.13"
  }
 },
 "nbformat": 4,
 "nbformat_minor": 2
}
